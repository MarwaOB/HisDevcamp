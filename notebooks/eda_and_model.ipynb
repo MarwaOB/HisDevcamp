{
 "cells": [
  {
   "cell_type": "code",
   "execution_count": null,
   "id": "37bc6c6b",
   "metadata": {},
   "outputs": [],
   "source": [
    "# Cell 1: Imports\n",
    "import pandas as pd\n",
    "import numpy as np\n",
    "import xgboost as xgb\n",
    "import pickle\n",
    "from sklearn.model_selection import train_test_split\n",
    "from sklearn.metrics import mean_squared_error\n",
    "\n",
    "import sys\n",
    "sys.path.append('../Backend/')  # so Python can find the backend module\n",
    "from .ai.utils import preprocess_data "
   ]
  },
  {
   "cell_type": "code",
   "execution_count": 11,
   "id": "f9634b02",
   "metadata": {},
   "outputs": [
    {
     "data": {
      "text/html": [
       "<div>\n",
       "<style scoped>\n",
       "    .dataframe tbody tr th:only-of-type {\n",
       "        vertical-align: middle;\n",
       "    }\n",
       "\n",
       "    .dataframe tbody tr th {\n",
       "        vertical-align: top;\n",
       "    }\n",
       "\n",
       "    .dataframe thead th {\n",
       "        text-align: right;\n",
       "    }\n",
       "</style>\n",
       "<table border=\"1\" class=\"dataframe\">\n",
       "  <thead>\n",
       "    <tr style=\"text-align: right;\">\n",
       "      <th></th>\n",
       "      <th>record_ID</th>\n",
       "      <th>week</th>\n",
       "      <th>store_id</th>\n",
       "      <th>sku_id</th>\n",
       "      <th>total_price</th>\n",
       "      <th>base_price</th>\n",
       "      <th>is_featured_sku</th>\n",
       "      <th>is_display_sku</th>\n",
       "      <th>units_sold</th>\n",
       "    </tr>\n",
       "  </thead>\n",
       "  <tbody>\n",
       "    <tr>\n",
       "      <th>0</th>\n",
       "      <td>1</td>\n",
       "      <td>2011-01-17</td>\n",
       "      <td>8091</td>\n",
       "      <td>216418</td>\n",
       "      <td>99.0375</td>\n",
       "      <td>111.8625</td>\n",
       "      <td>0</td>\n",
       "      <td>0</td>\n",
       "      <td>20</td>\n",
       "    </tr>\n",
       "    <tr>\n",
       "      <th>1</th>\n",
       "      <td>1097</td>\n",
       "      <td>2011-01-17</td>\n",
       "      <td>9672</td>\n",
       "      <td>223153</td>\n",
       "      <td>192.3750</td>\n",
       "      <td>236.5500</td>\n",
       "      <td>1</td>\n",
       "      <td>1</td>\n",
       "      <td>109</td>\n",
       "    </tr>\n",
       "    <tr>\n",
       "      <th>2</th>\n",
       "      <td>1096</td>\n",
       "      <td>2011-01-17</td>\n",
       "      <td>9672</td>\n",
       "      <td>223245</td>\n",
       "      <td>207.3375</td>\n",
       "      <td>207.3375</td>\n",
       "      <td>0</td>\n",
       "      <td>0</td>\n",
       "      <td>61</td>\n",
       "    </tr>\n",
       "    <tr>\n",
       "      <th>3</th>\n",
       "      <td>1095</td>\n",
       "      <td>2011-01-17</td>\n",
       "      <td>9672</td>\n",
       "      <td>222765</td>\n",
       "      <td>241.5375</td>\n",
       "      <td>241.5375</td>\n",
       "      <td>0</td>\n",
       "      <td>0</td>\n",
       "      <td>49</td>\n",
       "    </tr>\n",
       "    <tr>\n",
       "      <th>4</th>\n",
       "      <td>1094</td>\n",
       "      <td>2011-01-17</td>\n",
       "      <td>9672</td>\n",
       "      <td>222087</td>\n",
       "      <td>181.6875</td>\n",
       "      <td>207.3375</td>\n",
       "      <td>1</td>\n",
       "      <td>0</td>\n",
       "      <td>129</td>\n",
       "    </tr>\n",
       "  </tbody>\n",
       "</table>\n",
       "</div>"
      ],
      "text/plain": [
       "   record_ID       week  store_id  sku_id  total_price  base_price  \\\n",
       "0          1 2011-01-17      8091  216418      99.0375    111.8625   \n",
       "1       1097 2011-01-17      9672  223153     192.3750    236.5500   \n",
       "2       1096 2011-01-17      9672  223245     207.3375    207.3375   \n",
       "3       1095 2011-01-17      9672  222765     241.5375    241.5375   \n",
       "4       1094 2011-01-17      9672  222087     181.6875    207.3375   \n",
       "\n",
       "   is_featured_sku  is_display_sku  units_sold  \n",
       "0                0               0          20  \n",
       "1                1               1         109  \n",
       "2                0               0          61  \n",
       "3                0               0          49  \n",
       "4                1               0         129  "
      ]
     },
     "execution_count": 11,
     "metadata": {},
     "output_type": "execute_result"
    }
   ],
   "source": [
    "# Cell 2: Load your dataset\n",
    "\n",
    "df = pd.read_csv('../data/dataset_devcamp.csv')\n",
    "df['week'] = pd.to_datetime(df['week'], errors='coerce')\n",
    "df.head()"
   ]
  },
  {
   "cell_type": "code",
   "execution_count": 3,
   "id": "03e79ad7",
   "metadata": {},
   "outputs": [
    {
     "name": "stdout",
     "output_type": "stream",
     "text": [
      "0   2011-01-17\n",
      "1   2011-01-17\n",
      "2   2011-01-17\n",
      "3   2011-01-17\n",
      "4   2011-01-17\n",
      "Name: week, dtype: datetime64[ns]\n",
      "record_ID                   int64\n",
      "week               datetime64[ns]\n",
      "store_id                    int64\n",
      "sku_id                      int64\n",
      "total_price               float64\n",
      "base_price                float64\n",
      "is_featured_sku             int64\n",
      "is_display_sku              int64\n",
      "units_sold                  int64\n",
      "dtype: object\n"
     ]
    }
   ],
   "source": [
    "# Check if conversion succeeded\n",
    "print(df['week'].head())\n",
    "print(df.dtypes)"
   ]
  },
  {
   "cell_type": "code",
   "execution_count": 12,
   "id": "ce530fe6",
   "metadata": {},
   "outputs": [
    {
     "name": "stdout",
     "output_type": "stream",
     "text": [
      "<class 'pandas.core.frame.DataFrame'>\n",
      "RangeIndex: 133980 entries, 0 to 133979\n",
      "Data columns (total 9 columns):\n",
      " #   Column           Non-Null Count   Dtype         \n",
      "---  ------           --------------   -----         \n",
      " 0   record_ID        133980 non-null  int64         \n",
      " 1   week             133980 non-null  datetime64[ns]\n",
      " 2   store_id         133980 non-null  int64         \n",
      " 3   sku_id           133980 non-null  int64         \n",
      " 4   total_price      133980 non-null  float64       \n",
      " 5   base_price       133980 non-null  float64       \n",
      " 6   is_featured_sku  133980 non-null  int64         \n",
      " 7   is_display_sku   133980 non-null  int64         \n",
      " 8   units_sold       133980 non-null  int64         \n",
      "dtypes: datetime64[ns](1), float64(2), int64(6)\n",
      "memory usage: 9.2 MB\n"
     ]
    },
    {
     "data": {
      "text/plain": [
       "record_ID          0\n",
       "week               0\n",
       "store_id           0\n",
       "sku_id             0\n",
       "total_price        0\n",
       "base_price         0\n",
       "is_featured_sku    0\n",
       "is_display_sku     0\n",
       "units_sold         0\n",
       "dtype: int64"
      ]
     },
     "execution_count": 12,
     "metadata": {},
     "output_type": "execute_result"
    }
   ],
   "source": [
    "# Check for nulls or basic stats\n",
    "df.info()\n",
    "df.describe()\n",
    "df.isnull().sum()\n"
   ]
  },
  {
   "cell_type": "code",
   "execution_count": 13,
   "id": "c737090f",
   "metadata": {},
   "outputs": [
    {
     "name": "stdout",
     "output_type": "stream",
     "text": [
      "(133980, 111)\n"
     ]
    }
   ],
   "source": [
    "\n",
    "\n",
    "X = preprocess_data(df)\n",
    "y = df['units_sold'].values\n",
    "\n",
    "print(X.shape)\n",
    "\n"
   ]
  }
 ],
 "metadata": {
  "kernelspec": {
   "display_name": ".venv",
   "language": "python",
   "name": "python3"
  },
  "language_info": {
   "codemirror_mode": {
    "name": "ipython",
    "version": 3
   },
   "file_extension": ".py",
   "mimetype": "text/x-python",
   "name": "python",
   "nbconvert_exporter": "python",
   "pygments_lexer": "ipython3",
   "version": "3.13.1"
  }
 },
 "nbformat": 4,
 "nbformat_minor": 5
}
